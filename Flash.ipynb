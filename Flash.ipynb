{
 "cells": [
  {
   "cell_type": "code",
   "execution_count": null,
   "metadata": {
    "vscode": {
     "languageId": "plaintext"
    }
   },
   "outputs": [],
   "source": [
    "from flask import Flask\n",
    "\n",
    "app = Flask(__name__)\n",
    "\n",
    "\n",
    "@app.route('/<name>')\n",
    "def hello(name):\n",
    "    return f\"\"\"<!DOCTYPE html>\n",
    "<html>\n",
    "    <body>\n",
    "        <p>hello world, <b>{name}</b></p>\n",
    "    </body>\n",
    "</html>\"\"\"\n",
    "\n",
    "\n",
    "@app.route('/')\n",
    "def init():\n",
    "    data = [\n",
    "        {'id': 1, 'name': 'John', 'age': 25},\n",
    "        {'id': 2, 'name': 'Alice', 'age': 30}\n",
    "    ]\n",
    "    table_rows = \"\"\n",
    "    for item in data:\n",
    "        table_rows += f\"\"\"\n",
    "        <tr>\n",
    "            <td>{item['id']}</td>\n",
    "            <td>{item['name']}</td>\n",
    "            <td>{item['age']}</td>\n",
    "        </tr>\"\"\"\n",
    "    return f\"\"\"<!doctype html>\n",
    "<html>\n",
    "  <body>\n",
    "    <table border=1>\n",
    "      <thead>\n",
    "        <tr>\n",
    "          <td>ID</td>\n",
    "          <td>name</td>\n",
    "          <td>age</td>\n",
    "        </tr>\n",
    "      </thead>\n",
    "      <tbody>\n",
    "        {table_rows}\n",
    "      </tbody>\n",
    "    </table>\n",
    "  </body>\n",
    "</html>\"\"\"\n",
    "\n",
    "\n",
    "if __name__ == '__main__':\n",
    "    app.run(debug=False)"
   ]
  }
 ],
 "metadata": {
  "language_info": {
   "name": "python"
  }
 },
 "nbformat": 4,
 "nbformat_minor": 2
}
